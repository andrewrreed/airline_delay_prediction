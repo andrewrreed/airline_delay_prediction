{
 "cells": [
  {
   "cell_type": "markdown",
   "metadata": {},
   "source": [
    "# Part 2 - Data Analysis\n",
    "\n",
    "For this project, the requirement is to use the flights dataset to predict if a particular flight in the future will be cancelled. This first notebook is used to explore the data.\n",
    "\n"
   ]
  },
  {
   "cell_type": "code",
   "execution_count": 1,
   "metadata": {
    "scrolled": false
   },
   "outputs": [],
   "source": [
    "#The various imports\n",
    "import numpy as np\n",
    "import matplotlib.pyplot as plt\n",
    "import seaborn as sns\n",
    "import os\n",
    "\n",
    "from pyspark.sql import SparkSession\n",
    "from pyspark.sql.types import *\n",
    "from pyspark.sql.functions import *"
   ]
  },
  {
   "cell_type": "markdown",
   "metadata": {},
   "source": [
    "## Create the Spark session\n",
    "Connect to spark using the standard Spark Session connector. I've put the connection parameters into each file directly they change dependingo the type of job that is running. You should adjust the following for your specific Spark environment.\n",
    "\n",
    "+ `spark.executor.memory`\n",
    "+ `spark.executor.cores`\n",
    "+ `spark.driver.memory` \n",
    "\n",
    "Spark will use the default `master` setting when connecting to the resource manager. With Cloudera CML, this will be Spark on Kubernetes. If you are working on you local machine for testing, add `.master(\"local[*]\")\\` before `.getOrCreate()`     \n",
    "\n",
    "The next on is specific to the Cloudera CML setup:\n",
    "\n",
    "`spark.yarn.access.hadoopFileSystems s3a://[s3 bucket location]`"
   ]
  },
  {
   "cell_type": "code",
   "execution_count": 2,
   "metadata": {
    "scrolled": false
   },
   "outputs": [],
   "source": [
    "storage = os.getenv(\"STORAGE\")\n",
    "\n",
    "spark = SparkSession\\\n",
    "    .builder\\\n",
    "    .appName(\"Airline Data Exploration\")\\\n",
    "    .config(\"spark.executor.memory\",\"8g\")\\\n",
    "    .config(\"spark.executor.cores\",\"4\")\\\n",
    "    .config(\"spark.driver.memory\",\"6g\")\\\n",
    "    .config(\"spark.yarn.access.hadoopFileSystems\",storage)\\\n",
    "    .getOrCreate()"
   ]
  },
  {
   "cell_type": "markdown",
   "metadata": {},
   "source": [
    "## Load the Spark UI\n",
    "This creates a link the Spark UI. Its specific to CML and needed because of an issue wit TLS that is being fixed. If you are running locally, just run `spark` as a command in a cell and it will provide you with the Spark UI link."
   ]
  },
  {
   "cell_type": "code",
   "execution_count": 3,
   "metadata": {
    "scrolled": false
   },
   "outputs": [
    {
     "data": {
      "text/html": [
       "<a href=\"http://spark-vq5apmkbvomw7axz.ml-6099af20-e60.demo-azu.ylcu-atmi.cloudera.site\" target=\"_blank\">Spark UI</a>"
      ],
      "text/plain": [
       "<IPython.core.display.HTML object>"
      ]
     },
     "execution_count": 3,
     "metadata": {},
     "output_type": "execute_result"
    }
   ],
   "source": [
    "from IPython.core.display import HTML\n",
    "HTML('<a href=\"http://spark-{}.{}\" target=\"_blank\">Spark UI</a>'.format(os.getenv(\"CDSW_ENGINE_ID\"),os.getenv(\"CDSW_DOMAIN\")))"
   ]
  },
  {
   "cell_type": "markdown",
   "metadata": {},
   "source": [
    "## Import the data\n",
    "This file was downloaded from [Kaggle](https://www.kaggle.com/yuanyuwendymu/airline-delay-and-cancellation-data-2009-2018) as a CSV and upload to S3. Since we know the schema already, we can make its correct by defining the schema for the import rather than relying on inferSchema. Its also faster! \n",
    "\n",
    "_Note: If you are working in local mode, you should limit the number of rows that are returned._\n",
    "\n",
    "> _HANDY TIP_\n",
    "> \n",
    "> Use `.persist()` on a data frame that you are work a lot with to prevent Spark from fetching the data everytime you run query. It will store that dataframe in memory and all operations on that dataframe will run on the in-memory version."
   ]
  },
  {
   "cell_type": "code",
   "execution_count": 4,
   "metadata": {
    "scrolled": false
   },
   "outputs": [
    {
     "data": {
      "text/plain": [
       "DataFrame[month: int, dayofmonth: int, dayofweek: int, deptime: int, crsdeptime: int, arrtime: int, crsarrtime: int, uniquecarrier: string, flightnum: int, tailnum: string, actualelapsedtime: int, crselapsedtime: int, airtime: int, arrdelay: int, depdelay: int, origin: string, dest: string, distance: int, taxiin: int, taxiout: int, cancelled: int, cancellationcode: string, diverted: string, carrierdelay: int, weatherdelay: int, nasdelay: int, securitydelay: int, lateaircraftdelay: int, year: int]"
      ]
     },
     "execution_count": 4,
     "metadata": {},
     "output_type": "execute_result"
    }
   ],
   "source": [
    "flight_df = spark.sql(\"select * from airline_ontime_parquet.flights_external\")\n",
    "\n",
    "# Uncomment this if you are running in local mode and just want to see things work\n",
    "#flight_df = flight_df.limit(10000)\n",
    "\n",
    "flight_df.persist()"
   ]
  },
  {
   "cell_type": "markdown",
   "metadata": {},
   "source": [
    "## Cancelled Flights by Carrier\n",
    "The first bit of data exploration is to check the flight cancellations by carrier. This is best done by showing which carrier has the highet percentage of cancelled flights rather than the total number of cancelled flights. \n",
    "\n",
    "Concepts introduced in this section:\n",
    "+ `filter()`,`groupby` etc.\n",
    "+ `withColumn` and `withColumnRenamed`\n",
    "+ `toPandas()`"
   ]
  },
  {
   "cell_type": "code",
   "execution_count": 5,
   "metadata": {},
   "outputs": [
    {
     "name": "stdout",
     "output_type": "stream",
     "text": [
      "root\n",
      " |-- month: integer (nullable = true)\n",
      " |-- dayofmonth: integer (nullable = true)\n",
      " |-- dayofweek: integer (nullable = true)\n",
      " |-- deptime: integer (nullable = true)\n",
      " |-- crsdeptime: integer (nullable = true)\n",
      " |-- arrtime: integer (nullable = true)\n",
      " |-- crsarrtime: integer (nullable = true)\n",
      " |-- uniquecarrier: string (nullable = true)\n",
      " |-- flightnum: integer (nullable = true)\n",
      " |-- tailnum: string (nullable = true)\n",
      " |-- actualelapsedtime: integer (nullable = true)\n",
      " |-- crselapsedtime: integer (nullable = true)\n",
      " |-- airtime: integer (nullable = true)\n",
      " |-- arrdelay: integer (nullable = true)\n",
      " |-- depdelay: integer (nullable = true)\n",
      " |-- origin: string (nullable = true)\n",
      " |-- dest: string (nullable = true)\n",
      " |-- distance: integer (nullable = true)\n",
      " |-- taxiin: integer (nullable = true)\n",
      " |-- taxiout: integer (nullable = true)\n",
      " |-- cancelled: integer (nullable = true)\n",
      " |-- cancellationcode: string (nullable = true)\n",
      " |-- diverted: string (nullable = true)\n",
      " |-- carrierdelay: integer (nullable = true)\n",
      " |-- weatherdelay: integer (nullable = true)\n",
      " |-- nasdelay: integer (nullable = true)\n",
      " |-- securitydelay: integer (nullable = true)\n",
      " |-- lateaircraftdelay: integer (nullable = true)\n",
      " |-- year: integer (nullable = true)\n",
      "\n"
     ]
    }
   ],
   "source": [
    "flight_df.printSchema()"
   ]
  },
  {
   "cell_type": "code",
   "execution_count": 8,
   "metadata": {
    "scrolled": false
   },
   "outputs": [
    {
     "data": {
      "text/html": [
       "<div>\n",
       "<style scoped>\n",
       "    .dataframe tbody tr th:only-of-type {\n",
       "        vertical-align: middle;\n",
       "    }\n",
       "\n",
       "    .dataframe tbody tr th {\n",
       "        vertical-align: top;\n",
       "    }\n",
       "\n",
       "    .dataframe thead th {\n",
       "        text-align: right;\n",
       "    }\n",
       "</style>\n",
       "<table border=\"1\" class=\"dataframe\">\n",
       "  <thead>\n",
       "    <tr style=\"text-align: right;\">\n",
       "      <th></th>\n",
       "      <th>uniquecarrier</th>\n",
       "      <th>count_total</th>\n",
       "      <th>uniquecarrier</th>\n",
       "      <th>count_delays</th>\n",
       "      <th>delay_percent</th>\n",
       "    </tr>\n",
       "  </thead>\n",
       "  <tbody>\n",
       "    <tr>\n",
       "      <td>0</td>\n",
       "      <td>MQ</td>\n",
       "      <td>3954895</td>\n",
       "      <td>MQ</td>\n",
       "      <td>157478</td>\n",
       "      <td>3.981850</td>\n",
       "    </tr>\n",
       "    <tr>\n",
       "      <td>1</td>\n",
       "      <td>YV</td>\n",
       "      <td>854056</td>\n",
       "      <td>YV</td>\n",
       "      <td>30050</td>\n",
       "      <td>3.518505</td>\n",
       "    </tr>\n",
       "    <tr>\n",
       "      <td>2</td>\n",
       "      <td>OH</td>\n",
       "      <td>1464176</td>\n",
       "      <td>OH</td>\n",
       "      <td>47174</td>\n",
       "      <td>3.221880</td>\n",
       "    </tr>\n",
       "    <tr>\n",
       "      <td>3</td>\n",
       "      <td>DH</td>\n",
       "      <td>693047</td>\n",
       "      <td>DH</td>\n",
       "      <td>22176</td>\n",
       "      <td>3.199783</td>\n",
       "    </tr>\n",
       "    <tr>\n",
       "      <td>4</td>\n",
       "      <td>9E</td>\n",
       "      <td>521059</td>\n",
       "      <td>9E</td>\n",
       "      <td>15039</td>\n",
       "      <td>2.886237</td>\n",
       "    </tr>\n",
       "    <tr>\n",
       "      <td>5</td>\n",
       "      <td>EV</td>\n",
       "      <td>1697172</td>\n",
       "      <td>EV</td>\n",
       "      <td>48676</td>\n",
       "      <td>2.868065</td>\n",
       "    </tr>\n",
       "    <tr>\n",
       "      <td>6</td>\n",
       "      <td>UA</td>\n",
       "      <td>8821384</td>\n",
       "      <td>UA</td>\n",
       "      <td>232829</td>\n",
       "      <td>2.639370</td>\n",
       "    </tr>\n",
       "    <tr>\n",
       "      <td>7</td>\n",
       "      <td>NW</td>\n",
       "      <td>6946627</td>\n",
       "      <td>NW</td>\n",
       "      <td>176539</td>\n",
       "      <td>2.541363</td>\n",
       "    </tr>\n",
       "    <tr>\n",
       "      <td>8</td>\n",
       "      <td>US</td>\n",
       "      <td>8286980</td>\n",
       "      <td>US</td>\n",
       "      <td>203291</td>\n",
       "      <td>2.453137</td>\n",
       "    </tr>\n",
       "    <tr>\n",
       "      <td>9</td>\n",
       "      <td>TW</td>\n",
       "      <td>1890420</td>\n",
       "      <td>TW</td>\n",
       "      <td>45943</td>\n",
       "      <td>2.430306</td>\n",
       "    </tr>\n",
       "  </tbody>\n",
       "</table>\n",
       "</div>"
      ],
      "text/plain": [
       "  uniquecarrier  count_total uniquecarrier  count_delays  delay_percent\n",
       "0            MQ      3954895            MQ        157478       3.981850\n",
       "1            YV       854056            YV         30050       3.518505\n",
       "2            OH      1464176            OH         47174       3.221880\n",
       "3            DH       693047            DH         22176       3.199783\n",
       "4            9E       521059            9E         15039       2.886237\n",
       "5            EV      1697172            EV         48676       2.868065\n",
       "6            UA      8821384            UA        232829       2.639370\n",
       "7            NW      6946627            NW        176539       2.541363\n",
       "8            US      8286980            US        203291       2.453137\n",
       "9            TW      1890420            TW         45943       2.430306"
      ]
     },
     "execution_count": 8,
     "metadata": {},
     "output_type": "execute_result"
    }
   ],
   "source": [
    "cancel_by_carrier = flight_df\\\n",
    "  .filter(\"cancelled == 1\")\\\n",
    "  .groupby(\"uniquecarrier\")\\\n",
    "  .count()\\\n",
    "  .sort(\"count\",ascending=False)\\\n",
    "  .withColumnRenamed('count', 'count_delays')\n",
    "\n",
    "  \n",
    "flight_by_carrier = flight_df\\\n",
    "  .groupby(\"uniquecarrier\")\\\n",
    "  .count()\\\n",
    "  .sort(\"count\",ascending=False)\\\n",
    "  .withColumnRenamed('count', 'count_total')\n",
    "\n",
    "  \n",
    "cancel_by_carrier_percent = flight_by_carrier\\\n",
    "  .join(\n",
    "    cancel_by_carrier, \n",
    "    flight_by_carrier.uniquecarrier == cancel_by_carrier.uniquecarrier\n",
    "  )\n",
    "  \n",
    "cancel_by_carrier_percent = cancel_by_carrier_percent\\\n",
    "  .withColumn(\n",
    "    \"delay_percent\",(\n",
    "      cancel_by_carrier_percent.count_delays/cancel_by_carrier_percent.count_total\n",
    "    )*100\n",
    "  )\\\n",
    "  .sort(\"delay_percent\",ascending=False)\\\n",
    "  .toPandas()\n",
    "\n",
    "# This limits\n",
    "cancel_by_carrier_percent.head(10)\n"
   ]
  },
  {
   "cell_type": "markdown",
   "metadata": {},
   "source": [
    "# Cancelled flights by Year\n",
    "This is not necessarily useful as a predictive metric, but it is still interesting."
   ]
  },
  {
   "cell_type": "code",
   "execution_count": 11,
   "metadata": {
    "scrolled": false
   },
   "outputs": [],
   "source": [
    "flight_by_year = flight_df\\\n",
    "  .groupby(\"year\")\\\n",
    "  .count()\\\n",
    "  .sort(\"count\",ascending=False)\\\n",
    "  .withColumnRenamed('count', 'count_total')\n",
    "  \n",
    "cancel_by_year = flight_df\\\n",
    "  .filter(\"cancelled == 1\")\\\n",
    "  .withColumnRenamed(\"year\",\"year_cancel\")\\\n",
    "  .groupby(\"year_cancel\")\\\n",
    "  .count()\\\n",
    "  .sort(\"count\",ascending=False)\\\n",
    "  .withColumnRenamed('count', 'cancel_total')\n",
    "\n",
    "cancel_by_year_percent = flight_by_year\\\n",
    "  .join(\n",
    "    cancel_by_year, \n",
    "    flight_by_year.year == cancel_by_year.year_cancel\n",
    "  )  \n",
    "  \n",
    "cancel_by_year_percent = cancel_by_year_percent\\\n",
    "  .withColumn(\n",
    "    \"delay_percent\",(\n",
    "      cancel_by_year_percent.cancel_total/cancel_by_year_percent.count_total\n",
    "    )*100\n",
    "  )\\\n",
    "  .sort(\"year\",ascending=False)\n",
    "  \n",
    "cancel_by_year_percent_pd = cancel_by_year_percent.toPandas()"
   ]
  },
  {
   "cell_type": "markdown",
   "metadata": {},
   "source": [
    "Plot this using a Tufte-like layout :)"
   ]
  },
  {
   "cell_type": "code",
   "execution_count": 12,
   "metadata": {
    "scrolled": false
   },
   "outputs": [
    {
     "data": {
      "image/png": "[encoded data removed]",
      "text/plain": [
       "<Figure size 432x288 with 1 Axes>"
      ]
     },
     "metadata": {},
     "output_type": "display_data"
    }
   ],
   "source": [
    "sns.set_style(\"white\",{'axes.axisbelow': False})\n",
    "plt.bar( \n",
    "cancel_by_year_percent_pd.year, \n",
    "cancel_by_year_percent_pd.delay_percent,\n",
    "align='center', \n",
    "alpha=0.5,\n",
    "color='#888888',\n",
    ")\n",
    "plt.grid(color='#FFFFFF', linestyle='-', linewidth=0.5, axis='y')\n",
    "plt.title(\n",
    "'Percentage Cancelled Flights by Year',\n",
    "color='grey'\n",
    ")\n",
    "plt.xticks(\n",
    "cancel_by_year_percent_pd.year,\n",
    "color='grey'\n",
    ")\n",
    "plt.yticks(color='grey')\n",
    "sns.despine(left=True,bottom=True)"
   ]
  },
  {
   "cell_type": "markdown",
   "metadata": {},
   "source": [
    "## Cancelled flights per Week of Year\n",
    "This is a more intersting statistic and likely to have more predictive power. Week of Year will be a seasonal and generally the flight patterns will have busier vs less busy times of the year. This will also show the effect that seasonal weather conditions can have on flight cancellations."
   ]
  },
  {
   "cell_type": "code",
   "execution_count": 13,
   "metadata": {
    "scrolled": false
   },
   "outputs": [],
   "source": [
    "flight_by_week = flight_df\\\n",
    "  .withColumn(\"date\",to_date(concat_ws(\"-\",\"year\",\"month\",\"dayofmonth\")))\\\n",
    "  .withColumn(\"week\",weekofyear(\"date\"))\\\n",
    "  .groupby(\"week\")\\\n",
    "  .count()\\\n",
    "  .sort(\"count\",ascending=False)\\\n",
    "  .withColumnRenamed('count', 'count_total')\n",
    "  \n",
    "cancel_by_week = flight_df\\\n",
    "  .filter(\"cancelled == 1\")\\\n",
    "  .withColumn(\"date\",to_date(concat_ws(\"-\",\"year\",\"month\",\"dayofmonth\")))\\\n",
    "  .withColumn(\"week\",weekofyear(\"date\"))\\\n",
    "  .withColumnRenamed(\"week\",\"week_cancel\")\\\n",
    "  .groupby(\"week_cancel\")\\\n",
    "  .count()\\\n",
    "  .sort(\"count\",ascending=False)\\\n",
    "  .withColumnRenamed('count', 'cancel_total')\n",
    "\n",
    "cancel_by_week_percent = flight_by_week\\\n",
    "  .join(\n",
    "    cancel_by_week, \n",
    "    flight_by_week.week == cancel_by_week.week_cancel\n",
    "  )  \n",
    "  \n",
    "cancel_by_week_percent = cancel_by_week_percent\\\n",
    "  .withColumn(\n",
    "    \"delay_percent\",(\n",
    "      cancel_by_week_percent.cancel_total/cancel_by_week_percent.count_total\n",
    "    )*100\n",
    "  )\\\n",
    "  .sort(\"week\",ascending=False)\n",
    "  \n",
    "cancel_by_week_percent_pd = cancel_by_week_percent.toPandas()"
   ]
  },
  {
   "cell_type": "code",
   "execution_count": 14,
   "metadata": {
    "scrolled": false
   },
   "outputs": [
    {
     "data": {
      "image/png": "[encoded data removed]",
      "text/plain": [
       "<Figure size 432x288 with 1 Axes>"
      ]
     },
     "metadata": {},
     "output_type": "display_data"
    }
   ],
   "source": [
    "def plotter():\n",
    "  sns.set_style(\"white\",{'axes.axisbelow': False})\n",
    "  plt.bar( \n",
    "    cancel_by_week_percent_pd.week, \n",
    "    cancel_by_week_percent_pd.delay_percent,\n",
    "    align='center', \n",
    "    alpha=0.5,\n",
    "    color='#888888',\n",
    "  )\n",
    "  plt.grid(color='#FFFFFF', linestyle='-', linewidth=0.5, axis='y')\n",
    "  plt.title(\n",
    "    'Percentage Cancelled Flights by Week',\n",
    "    color='grey'\n",
    "  )\n",
    "  plt.xticks(\n",
    "    color='grey'\n",
    "  )\n",
    "  plt.yticks(color='grey')\n",
    "  sns.despine(left=True,bottom=True)\n",
    "plotter()"
   ]
  },
  {
   "cell_type": "markdown",
   "metadata": {},
   "source": [
    "## Calculating Cancelled Routes\n",
    "To work out if route is likely to cancalled, the easiest way is to create a string that combines the origin and destination. However that works only in on direction, so calculate for both directions, the code below uses `hash` to create an interger that is the sum of the a of the origin and a hash of the destination. This creates a commutative process for any route.\n",
    "\n",
    "\n",
    "> HANDY TIP\n",
    "> In pyspark you can aggregate inside a `select` function (i.e. use `sum` etc) if its not after a groupby"
   ]
  },
  {
   "cell_type": "code",
   "execution_count": 15,
   "metadata": {
    "scrolled": false
   },
   "outputs": [
    {
     "data": {
      "text/html": [
       "<div>\n",
       "<style scoped>\n",
       "    .dataframe tbody tr th:only-of-type {\n",
       "        vertical-align: middle;\n",
       "    }\n",
       "\n",
       "    .dataframe tbody tr th {\n",
       "        vertical-align: top;\n",
       "    }\n",
       "\n",
       "    .dataframe thead th {\n",
       "        text-align: right;\n",
       "    }\n",
       "</style>\n",
       "<table border=\"1\" class=\"dataframe\">\n",
       "  <thead>\n",
       "    <tr style=\"text-align: right;\">\n",
       "      <th></th>\n",
       "      <th>route</th>\n",
       "      <th>count</th>\n",
       "      <th>count_all</th>\n",
       "      <th>cancelled_percent</th>\n",
       "    </tr>\n",
       "  </thead>\n",
       "  <tbody>\n",
       "    <tr>\n",
       "      <td>0</td>\n",
       "      <td>CID&lt;&gt;DSM</td>\n",
       "      <td>1</td>\n",
       "      <td>1</td>\n",
       "      <td>100.0</td>\n",
       "    </tr>\n",
       "    <tr>\n",
       "      <td>1</td>\n",
       "      <td>PIA&lt;&gt;MDW</td>\n",
       "      <td>1</td>\n",
       "      <td>1</td>\n",
       "      <td>100.0</td>\n",
       "    </tr>\n",
       "    <tr>\n",
       "      <td>2</td>\n",
       "      <td>HPN&lt;&gt;ALB</td>\n",
       "      <td>1</td>\n",
       "      <td>1</td>\n",
       "      <td>100.0</td>\n",
       "    </tr>\n",
       "    <tr>\n",
       "      <td>3</td>\n",
       "      <td>HPN&lt;&gt;LGA</td>\n",
       "      <td>2</td>\n",
       "      <td>2</td>\n",
       "      <td>100.0</td>\n",
       "    </tr>\n",
       "    <tr>\n",
       "      <td>4</td>\n",
       "      <td>RIC&lt;&gt;GSO</td>\n",
       "      <td>1</td>\n",
       "      <td>1</td>\n",
       "      <td>100.0</td>\n",
       "    </tr>\n",
       "    <tr>\n",
       "      <td>5</td>\n",
       "      <td>SMF&lt;&gt;MSN</td>\n",
       "      <td>1</td>\n",
       "      <td>1</td>\n",
       "      <td>100.0</td>\n",
       "    </tr>\n",
       "    <tr>\n",
       "      <td>6</td>\n",
       "      <td>BMI&lt;&gt;PIA</td>\n",
       "      <td>1</td>\n",
       "      <td>1</td>\n",
       "      <td>100.0</td>\n",
       "    </tr>\n",
       "    <tr>\n",
       "      <td>7</td>\n",
       "      <td>HNL&lt;&gt;GUM</td>\n",
       "      <td>1</td>\n",
       "      <td>1</td>\n",
       "      <td>100.0</td>\n",
       "    </tr>\n",
       "    <tr>\n",
       "      <td>8</td>\n",
       "      <td>AUS&lt;&gt;ORF</td>\n",
       "      <td>1</td>\n",
       "      <td>1</td>\n",
       "      <td>100.0</td>\n",
       "    </tr>\n",
       "    <tr>\n",
       "      <td>9</td>\n",
       "      <td>TLH&lt;&gt;JAX</td>\n",
       "      <td>1</td>\n",
       "      <td>1</td>\n",
       "      <td>100.0</td>\n",
       "    </tr>\n",
       "  </tbody>\n",
       "</table>\n",
       "</div>"
      ],
      "text/plain": [
       "      route  count  count_all  cancelled_percent\n",
       "0  CID<>DSM      1          1              100.0\n",
       "1  PIA<>MDW      1          1              100.0\n",
       "2  HPN<>ALB      1          1              100.0\n",
       "3  HPN<>LGA      2          2              100.0\n",
       "4  RIC<>GSO      1          1              100.0\n",
       "5  SMF<>MSN      1          1              100.0\n",
       "6  BMI<>PIA      1          1              100.0\n",
       "7  HNL<>GUM      1          1              100.0\n",
       "8  AUS<>ORF      1          1              100.0\n",
       "9  TLH<>JAX      1          1              100.0"
      ]
     },
     "execution_count": 15,
     "metadata": {},
     "output_type": "execute_result"
    }
   ],
   "source": [
    "all_routes = flight_df\\\n",
    "  .withColumn(\"combo_hash\", hash(\"origin\")+hash(\"dest\"))\\\n",
    "  .withColumn(\"combo\", concat(col(\"origin\"),col(\"dest\")))\\\n",
    "  .groupby(\"combo_hash\")\\\n",
    "  .agg(count(\"combo_hash\").alias(\"count_all\"),first(\"combo\").alias(\"route_alias_all\"))\\\n",
    "  .sort(\"count_all\",ascending=False)\n",
    "\n",
    "cancelled_routes_all = flight_df\\\n",
    "  .filter(\"cancelled == 1\")\\\n",
    "  .withColumn(\"combo_hash\", hash(\"origin\")+hash(\"dest\"))\\\n",
    "  .withColumn(\"combo\", concat(col(\"origin\"),col(\"dest\")))\\\n",
    "  .groupby(\"combo_hash\")\\\n",
    "  .agg(count(\"combo_hash\").alias(\"count\"),first(\"combo\").alias(\"route_alias\"))\\\n",
    "  .sort(\"count\",ascending=False)  \n",
    "\n",
    "cancelled_routes_percentage = cancelled_routes_all\\\n",
    "  .join(\n",
    "    all_routes,\n",
    "    cancelled_routes_all.combo_hash == all_routes.combo_hash\n",
    "  )\\\n",
    "  .withColumn(\n",
    "    \"route\", \n",
    "    concat(\n",
    "      substring(col(\"route_alias\"),0,3),\n",
    "      lit(\"<>\"),\n",
    "      substring(col(\"route_alias\"),4,6)\n",
    "    )\n",
    "  )\\\n",
    "  .withColumn(\n",
    "    \"cancelled_percent\", \n",
    "    col(\"count\")/col(\"count_all\")*100\n",
    "  )\\\n",
    "  .select(\"route\",\"count\",\"count_all\",\"cancelled_percent\")\\\n",
    "  .sort(\"cancelled_percent\",ascending=False)\n",
    "\n",
    "cancelled_routes_percentage.toPandas().head(10)"
   ]
  },
  {
   "cell_type": "markdown",
   "metadata": {},
   "source": [
    "### Side Note\n",
    "Interestingly most popular routes have similar numbers of cancelled flights in either direction."
   ]
  },
  {
   "cell_type": "code",
   "execution_count": 16,
   "metadata": {},
   "outputs": [
    {
     "data": {
      "text/html": [
       "<div>\n",
       "<style scoped>\n",
       "    .dataframe tbody tr th:only-of-type {\n",
       "        vertical-align: middle;\n",
       "    }\n",
       "\n",
       "    .dataframe tbody tr th {\n",
       "        vertical-align: top;\n",
       "    }\n",
       "\n",
       "    .dataframe thead th {\n",
       "        text-align: right;\n",
       "    }\n",
       "</style>\n",
       "<table border=\"1\" class=\"dataframe\">\n",
       "  <thead>\n",
       "    <tr style=\"text-align: right;\">\n",
       "      <th></th>\n",
       "      <th>combo</th>\n",
       "      <th>count</th>\n",
       "    </tr>\n",
       "  </thead>\n",
       "  <tbody>\n",
       "    <tr>\n",
       "      <td>0</td>\n",
       "      <td>LAXSFO</td>\n",
       "      <td>11253</td>\n",
       "    </tr>\n",
       "    <tr>\n",
       "      <td>1</td>\n",
       "      <td>SFOLAX</td>\n",
       "      <td>11071</td>\n",
       "    </tr>\n",
       "    <tr>\n",
       "      <td>2</td>\n",
       "      <td>EWRORD</td>\n",
       "      <td>9848</td>\n",
       "    </tr>\n",
       "    <tr>\n",
       "      <td>3</td>\n",
       "      <td>MSPORD</td>\n",
       "      <td>9725</td>\n",
       "    </tr>\n",
       "    <tr>\n",
       "      <td>4</td>\n",
       "      <td>LGAORD</td>\n",
       "      <td>9619</td>\n",
       "    </tr>\n",
       "    <tr>\n",
       "      <td>5</td>\n",
       "      <td>ORDMSP</td>\n",
       "      <td>9611</td>\n",
       "    </tr>\n",
       "    <tr>\n",
       "      <td>6</td>\n",
       "      <td>ORDEWR</td>\n",
       "      <td>9469</td>\n",
       "    </tr>\n",
       "    <tr>\n",
       "      <td>7</td>\n",
       "      <td>ORDLGA</td>\n",
       "      <td>9160</td>\n",
       "    </tr>\n",
       "    <tr>\n",
       "      <td>8</td>\n",
       "      <td>HOUDAL</td>\n",
       "      <td>8518</td>\n",
       "    </tr>\n",
       "    <tr>\n",
       "      <td>9</td>\n",
       "      <td>BOSORD</td>\n",
       "      <td>8426</td>\n",
       "    </tr>\n",
       "  </tbody>\n",
       "</table>\n",
       "</div>"
      ],
      "text/plain": [
       "    combo  count\n",
       "0  LAXSFO  11253\n",
       "1  SFOLAX  11071\n",
       "2  EWRORD   9848\n",
       "3  MSPORD   9725\n",
       "4  LGAORD   9619\n",
       "5  ORDMSP   9611\n",
       "6  ORDEWR   9469\n",
       "7  ORDLGA   9160\n",
       "8  HOUDAL   8518\n",
       "9  BOSORD   8426"
      ]
     },
     "execution_count": 16,
     "metadata": {},
     "output_type": "execute_result"
    }
   ],
   "source": [
    "cancelled_by_route_non_combo = flight_df\\\n",
    "  .filter(\"cancelled == 1\")\\\n",
    "  .withColumn(\"combo\", concat(col(\"origin\"),col(\"dest\")))\\\n",
    "  .groupby(\"combo\")\\\n",
    "  .count()\\\n",
    "  .sort(\"count\",ascending=False)\n",
    "\n",
    "cancelled_by_route_non_combo.toPandas().head(10)"
   ]
  },
  {
   "cell_type": "markdown",
   "metadata": {},
   "source": [
    "## Find Unused Columns\n",
    "Given that our aim is to calculate a prediction for the CANCELLED variable, many of the other columns are no longer relevant. You don't have an actual wheels down time for a cancelled flight. The code below lists the colums that have lots of NA values on cancelled flights."
   ]
  },
  {
   "cell_type": "code",
   "execution_count": 17,
   "metadata": {},
   "outputs": [
    {
     "data": {
      "text/plain": [
       "array(['deptime', 'arrtime', 'actualelapsedtime', 'crselapsedtime',\n",
       "       'airtime', 'arrdelay', 'depdelay', 'distance', 'taxiin', 'taxiout',\n",
       "       'carrierdelay', 'weatherdelay', 'nasdelay', 'securitydelay',\n",
       "       'lateaircraftdelay'], dtype=object)"
      ]
     },
     "execution_count": 17,
     "metadata": {},
     "output_type": "execute_result"
    }
   ],
   "source": [
    "unused_columns = flight_df\\\n",
    "  .filter(\"cancelled == 1\")\\\n",
    "  .agg(*(sum(isnull(c).cast('int')).alias(c) for c in flight_df.columns))\n",
    "\n",
    "unused_columns_df = unused_columns.toPandas()\n",
    "unused_columns_df_t = unused_columns_df.transpose()\n",
    "unused_columns_df_t.rename( columns={0 :'count'}, inplace=True )\n",
    "unused_columns_df_t.query('count>0').index.values"
   ]
  },
  {
   "cell_type": "code",
   "execution_count": null,
   "metadata": {},
   "outputs": [],
   "source": [
    "spark.stop()"
   ]
  },
  {
   "cell_type": "code",
   "execution_count": null,
   "metadata": {},
   "outputs": [],
   "source": []
  }
 ],
 "metadata": {
  "file_extension": ".py",
  "kernelspec": {
   "display_name": "Python 3",
   "language": "python",
   "name": "python3"
  },
  "language_info": {
   "codemirror_mode": {
    "name": "ipython",
    "version": 3
   },
   "file_extension": ".py",
   "mimetype": "text/x-python",
   "name": "python",
   "nbconvert_exporter": "python",
   "pygments_lexer": "ipython3",
   "version": "3.6.10"
  },
  "mimetype": "text/x-python",
  "name": "python",
  "npconvert_exporter": "python",
  "pygments_lexer": "ipython3",
  "version": 3
 },
 "nbformat": 4,
 "nbformat_minor": 2
}
